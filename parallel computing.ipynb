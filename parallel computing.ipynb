{
 "cells": [
  {
   "cell_type": "markdown",
   "metadata": {},
   "source": [
    "<h1 style=\"text-align:center;\">Parallel Computing</h1>"
   ]
  },
  {
   "attachments": {},
   "cell_type": "markdown",
   "metadata": {},
   "source": [
    "<br>\n",
    "\n",
    "### Sequential vs. Parallel Computing\n",
    "\n",
    "---\n",
    "\n",
    "In __sequential__ computing (or __serial__ computing), programs are computed in sequential order one at a time.\n",
    "\n",
    "In __parallel computing__, different programs are computed on different processor at the same time. This is a faster option. \n",
    "\n",
    "Having double processors doesn't mean the speed will be double as well. In case of multi processing, the processors need to communicate with each other to coordinate their actions. Because one processor might need the calculation output of other processor.\n",
    "\n",
    "<br>\n",
    "\n",
    "### Process vs. Thread\n",
    "\n",
    "---\n",
    "\n",
    "A __process__ is an independent instance of a running program. Processes are independent of each other and hence don't share a memory or other resources. They include code, data, and state information. \n",
    "Note: You can checkout the number of processors in \"task manager\" (in performance tab). Furthermore, you can monitor the performance of each process in \"resource monitor\".\n",
    "\n",
    "__Thread__ is a subset of a process. Threads are interdependent and share memory. OS schedules threads for execution.\n",
    "\n",
    "When to use thread or process:\n",
    "- Process:\n",
    "    - If application is distributed in multiple PCs.\n",
    "    - If one processor crashes, it doesn't affect the rest of processor.\n",
    "    - If we don't want to share information between processors.\n",
    "    - If we want heavy-weight.\n",
    "\n",
    "- Threads:\n",
    "    - If we want mutiple threads to shares information (i.e. date) with each other. This is because threads share memory with each other.\n",
    "    - If we want faster alternative to multi-processing.\n",
    "    - If we want light-weight.\n",
    "\n",
    "<br>\n",
    "\n",
    "### Concurrent vs, Parallel Execution\n",
    "\n",
    "---\n",
    "\n",
    "__Concurrency__ is about multiple tasks which start, run, and complete in overlapping time periods, in no specific order. In this case, we'll use threads.\n",
    "\n",
    "__Parallelism__ is about multiple tasks or subtasks of the same task that run at the same time on multiple computing resources (e.g multi-core processors, graphics processing unit, computer cluster). In this case, we use process.\n",
    "\n",
    "<br>\n",
    "\n",
    "### Global Interpreter Lock (GIL)\n",
    "\n",
    "---\n",
    "\n",
    "GIL is a mechanism that limits Python to only execute one thread at a time, which has a negative impact on parallel performance. It's part of the default python interpreter (i.e. CPython). There are other interpreters that don't use GIL. One way to go around GIL is to use external libraries (which is what we will do).\n",
    "\n",
    "<br>\n",
    "\n",
    "### Multi-Threads Demo\n",
    "\n",
    "---\n",
    "\n",
    "Originally, Python uses 1 thread. We'll use `threaing` package to increase number of threads in which our code runs."
   ]
  },
  {
   "cell_type": "code",
   "execution_count": null,
   "metadata": {},
   "outputs": [],
   "source": [
    "# Import the libraries\n",
    "import os\n",
    "import threading\n",
    "\n",
    "# Function with infinite loop\n",
    "def cpu_waster():\n",
    "    while True:\n",
    "        pass\n",
    "\n",
    "# Display process information\n",
    "print('\\n  Process ID: ', os.getpid())\n",
    "print('Thread Count: ', threading.active_count())\n",
    "\n",
    "# Display information about the each of threads\n",
    "for thread in threading.enumerate():\n",
    "    print(thread)\n",
    "\n",
    "# Start 12 threads that runs the cpu_waster function\n",
    "print('\\nStarting 12 CPU Wasters...')\n",
    "for i in range(12):\n",
    "    threading.Thread(target=cpu_waster).start()\n",
    "\n",
    "# Display process information\n",
    "print('\\n  Process ID: ', os.getpid())\n",
    "print('Thread Count: ', threading.active_count())\n",
    "\n",
    "# Display information about the each of threads\n",
    "for thread in threading.enumerate():\n",
    "    print(thread)"
   ]
  },
  {
   "cell_type": "code",
   "execution_count": null,
   "metadata": {},
   "outputs": [],
   "source": []
  }
 ],
 "metadata": {
  "kernelspec": {
   "display_name": "Python 3.8.12",
   "language": "python",
   "name": "python3"
  },
  "language_info": {
   "name": "python",
   "version": "3.8.12 (default, Oct 12 2021, 03:01:40) [MSC v.1916 64 bit (AMD64)]"
  },
  "orig_nbformat": 4,
  "vscode": {
   "interpreter": {
    "hash": "0187665e78f4e0c2618181a92b664d032a6d80e5396488badb98155be4023eb2"
   }
  }
 },
 "nbformat": 4,
 "nbformat_minor": 2
}
